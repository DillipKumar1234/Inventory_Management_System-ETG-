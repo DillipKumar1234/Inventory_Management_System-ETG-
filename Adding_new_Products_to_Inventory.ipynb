{
  "nbformat": 4,
  "nbformat_minor": 0,
  "metadata": {
    "colab": {
      "name": "Adding_new_Products to Inventory.ipynb",
      "provenance": []
    },
    "kernelspec": {
      "name": "python3",
      "display_name": "Python 3"
    },
    "language_info": {
      "name": "python"
    }
  },
  "cells": [
    {
      "cell_type": "code",
      "metadata": {
        "id": "QXRfoPO6btwR"
      },
      "source": [
        ""
      ],
      "execution_count": null,
      "outputs": []
    },
    {
      "cell_type": "markdown",
      "metadata": {
        "id": "18tLM4k2cEdv"
      },
      "source": [
        "# Read the Inventory"
      ]
    },
    {
      "cell_type": "code",
      "metadata": {
        "id": "9n8yrEhlcKK4"
      },
      "source": [
        "import json\n",
        "fd=open(\"record.json\",\"r\")\n",
        "r=fd.read()\n",
        "fd.close()\n",
        "record=json.loads(r)"
      ],
      "execution_count": 6,
      "outputs": []
    },
    {
      "cell_type": "code",
      "metadata": {
        "id": "avXUlsN2dTWR"
      },
      "source": [
        "record"
      ],
      "execution_count": null,
      "outputs": []
    },
    {
      "cell_type": "code",
      "metadata": {
        "id": "r_kH631udb8F"
      },
      "source": [
        ""
      ],
      "execution_count": null,
      "outputs": []
    },
    {
      "cell_type": "markdown",
      "metadata": {
        "id": "4RmQCjsYeTyD"
      },
      "source": [
        "# Add New-Brand to my inventory"
      ]
    },
    {
      "cell_type": "code",
      "metadata": {
        "id": "N740FPi_eaC6"
      },
      "source": [
        "s=int(input('how many brand name you add to this inventory: '))\n",
        "for i in range(s): \n",
        "    print('Brand',i+1)\n",
        "    prod_id=input('enter product id of new brand tshirt: ')\n",
        "    Brand_Name=input('enter the name of that latest_new brand name: ')\n",
        "    price=int(input('enter the price of that tshirt: '))\n",
        "    Quantity=int(input('enter the quantity of that tshirt: '))             \n",
        "    Discount=int(input('enter the discount of that tshirt(in %): '))\n",
        "    print()\n",
        "    def menu():\n",
        "        print('1-for choosing what is the sleeve type of that t-shirt: ')\n",
        "        print('2-for choosing what is the size of that t-shirt: ')\n",
        "        print('3-for choosing what is the neck-type of that t-shirt: ')\n",
        "        print()\n",
        "        return input('please select an option in a countinious manner')\n",
        "    \n",
        "    run=menu()\n",
        "    while True:\n",
        "        if( run =='1'):\n",
        "            print('1--for  Full sleeve')\n",
        "            print('2-- Half sleeve')\n",
        "            print('3-- Short Sleeve')\n",
        "            print('4-- Sleeveless')\n",
        "            print()\n",
        "            x=input('chose an option: ')\n",
        "            if (x=='1'):\n",
        "                Slv_type='Full sleeve'\n",
        "                print(Slv_type)\n",
        "            elif(x=='2'):\n",
        "                Slv_type='Half sleeve'\n",
        "                print(Slv_type)\n",
        "            elif (x=='3'):\n",
        "                Slv_type='Short Sleeve'\n",
        "                print(Slv_type)\n",
        "            elif (x=='4'):\n",
        "                Slv_type='Sleeveless'\n",
        "                print(Slv_type)\n",
        "            \n",
        "            break\n",
        "        \n",
        "    print()\n",
        "    run=menu()\n",
        "    while True:\n",
        "        if( run =='2'):\n",
        "            print('1-- Large')\n",
        "            print('2-- Small')\n",
        "        \n",
        "            print()\n",
        "            x=input('chose an option: ')\n",
        "            if (x=='1'):\n",
        "                Size='L'\n",
        "                print(Size)\n",
        "            elif(x=='2'):\n",
        "                Size='S'\n",
        "                print(Size)\n",
        "        \n",
        "            break\n",
        "    print()\n",
        "    run=menu()\n",
        "    while True:\n",
        "        if( run =='3'):\n",
        "            print('1-- V Neck')\n",
        "            print('2-- Round Neck')\n",
        "        \n",
        "            print()\n",
        "            x=input('chose an option: ')\n",
        "            if (x=='1'):\n",
        "                Neck_typ='V Neck'\n",
        "                print(Neck_typ)\n",
        "            elif(x=='2'):\n",
        "                Neck_typ='Round Neck'\n",
        "                print(Neck_typ)\n",
        "        \n",
        "            break\n",
        "            \n",
        "    record[prod_id]={'Brand_name':  Brand_Name,                       'price':price,  'quantity':Quantity, 'discount in %:':Discount, 'Sleeve_Type':Slv_type, 'size':Size, 'Neck_Type':Neck_typ}\n",
        "    \n",
        "    js=json.dumps(record)\n",
        "    \n",
        "    fd=open(\"record.json\",\"w\")\n",
        "    fd.write(js)\n",
        "    fd.close()\n",
        "    "
      ],
      "execution_count": null,
      "outputs": []
    },
    {
      "cell_type": "code",
      "metadata": {
        "id": "wVq3LXp-f4pt"
      },
      "source": [
        "record"
      ],
      "execution_count": null,
      "outputs": []
    },
    {
      "cell_type": "markdown",
      "metadata": {
        "id": "XDJ2QqMFhye6"
      },
      "source": [
        "# After adding something in present inventory,updatation of that inventory"
      ]
    },
    {
      "cell_type": "code",
      "metadata": {
        "id": "tXQ1dKaVhDED"
      },
      "source": [
        "w=input('Enter product id of brand tshirt present in store for updatation : ')\n",
        "x=input('Enter the name of that brand name: ')\n",
        "y=int(input('Enter the increased price for this brand-tshirt: '))\n",
        "z=int(input('Enter the increased quantity for this brand-tshirt: '))             \n",
        "m=int(input('Enter the increased(with no sign)  & decrease(in -ve) discount for this brand-tshirt(in %): '))\n",
        "record[w]['price']=record[w]['price']+y \n",
        "record[w]['quantity']=str(int(record[w]['quantity'])+z)\n",
        "record[w]['discount in %:']=str(int(record[w]['discount in %:'])+m)\n",
        "print('**********************************************************************')\n",
        "print('after updatation of inventory by adding some items for other benifits: ')\n",
        "print('**********************************************************************')\n",
        "record"
      ],
      "execution_count": null,
      "outputs": []
    },
    {
      "cell_type": "code",
      "metadata": {
        "id": "0KzcMP1ikM10"
      },
      "source": [
        ""
      ],
      "execution_count": null,
      "outputs": []
    }
  ]
}