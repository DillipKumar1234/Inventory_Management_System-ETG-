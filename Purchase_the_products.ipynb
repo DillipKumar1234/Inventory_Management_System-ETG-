{
  "nbformat": 4,
  "nbformat_minor": 0,
  "metadata": {
    "colab": {
      "name": "Purchase_the_products.ipynb",
      "provenance": []
    },
    "kernelspec": {
      "name": "python3",
      "display_name": "Python 3"
    },
    "language_info": {
      "name": "python"
    }
  },
  "cells": [
    {
      "cell_type": "code",
      "metadata": {
        "id": "Uy-YakX4nL7K"
      },
      "source": [
        ""
      ],
      "execution_count": null,
      "outputs": []
    },
    {
      "cell_type": "markdown",
      "metadata": {
        "id": "JQYO5pJFiYDz"
      },
      "source": [
        "# Read the record.json after adding products to that inventory"
      ]
    },
    {
      "cell_type": "code",
      "metadata": {
        "id": "7Wp3PK52is57"
      },
      "source": [
        "import json\n",
        "fd=open('record.json','r')\n",
        "r=fd.read()\n",
        "fd.close()\n",
        "record=json.loads(r)"
      ],
      "execution_count": 16,
      "outputs": []
    },
    {
      "cell_type": "code",
      "metadata": {
        "id": "QGHDQDbejmuX"
      },
      "source": [
        "record"
      ],
      "execution_count": null,
      "outputs": []
    },
    {
      "cell_type": "code",
      "metadata": {
        "id": "WK5XQiSqkDSE"
      },
      "source": [
        ""
      ],
      "execution_count": 9,
      "outputs": []
    },
    {
      "cell_type": "code",
      "metadata": {
        "id": "ens-pvurzxT3"
      },
      "source": [
        ""
      ],
      "execution_count": 9,
      "outputs": []
    },
    {
      "cell_type": "markdown",
      "metadata": {
        "id": "VvjjK1kK8WGO"
      },
      "source": [
        "# Read store sales.json file\n",
        "#Purchase Products\n",
        "# Update inventory after purchase\n",
        "# update the sales.json"
      ]
    },
    {
      "cell_type": "code",
      "metadata": {
        "id": "JPKLyrLh8ZRQ"
      },
      "source": [
        "import json\n",
        "fd=open(\"sales.json\",\"r\")\n",
        "r=fd.read()\n",
        "fd.close()\n",
        "s=json.loads(r)"
      ],
      "execution_count": 10,
      "outputs": []
    },
    {
      "cell_type": "code",
      "metadata": {
        "id": "kW0A9YkX9tWJ"
      },
      "source": [
        "person_no=int(input('how many customers are present: '))\n",
        "for i in range(person_no):\n",
        "    prod_id=input('enter the product id for purchasing: ')\n",
        "    quant=int(input('enter the purchase_quantity: '))\n",
        "    def mode():\n",
        "        print('Purchase by which type of  payment method')\n",
        "        print('1--- by ONLINE')\n",
        "        print('2--- by OFFLINE')\n",
        "        return input('please select an option in a countinious manner')\n",
        "    \n",
        "    run=mode()\n",
        "    \n",
        "    while True:\n",
        "        \n",
        "        if(run=='1'):\n",
        "            print('1--- by PAYTM')\n",
        "            print('2--- by PHONE-PE')\n",
        "            print('3--- by GOOGLE-PE')\n",
        "            \n",
        "            x=input('chose an option: ')\n",
        "            if (x=='1'):\n",
        "                ww='PAYTM'\n",
        "                print(ww)\n",
        "            elif(x=='2'):\n",
        "                ww='PHONE-PE'\n",
        "                print(ww)\n",
        "            elif (x=='3'):\n",
        "                ww='GOOGLE-PE'\n",
        "                print(ww)\n",
        "                \n",
        "            break\n",
        "            \n",
        "  \n",
        "        if (run=='2'):\n",
        "            print('1---by CREDIT-CARD')\n",
        "            print('2---by DEBIT-CARD')\n",
        "            print('3---by CASH')\n",
        "            x=input('chose an option: ')\n",
        "            \n",
        "            if (x=='1'):\n",
        "                ww='CREDIT-CARD'\n",
        "                print(ww)\n",
        "            elif (x=='2'):\n",
        "                ww='DEBIT-CARD'\n",
        "                print(ww)\n",
        "            elif (x=='3'):\n",
        "                ww='CASH'\n",
        "                print(ww)\n",
        "            break\n",
        "                \n",
        "    \n",
        "    print('product_brand of that id is:',record[prod_id]['Brand_name'])\n",
        "    print('price:',record[prod_id]['price'])\n",
        "    print('discount:',record[prod_id]['discount in %:'])\n",
        "    v=(quant*record[prod_id]['price']*(100-record[prod_id]['discount in %:']))/100\n",
        "    print('Billing amount calculate with discount',v)\n",
        "    record[prod_id]['quantity']=record[prod_id]['quantity']-quant\n",
        "    print()\n",
        "    \n",
        "    js=json.dumps(record)\n",
        "    \n",
        "    fd=open(\"record.json\",\"w\")\n",
        "    fd.write(js)\n",
        "    fd.close()\n",
        "    s[(len(s)+1)]={'prod':prod_id,'quan':quant,'brand_name':record[prod_id]['Brand_name'],'amount':v,'payment_mode':ww}\n",
        "    sale=json.dumps(s)\n",
        "    fd=open(\"sales.json\",\"w\")\n",
        "    fd.write(sale)\n",
        "    fd.close()\n",
        "    sales=json.loads(sale)"
      ],
      "execution_count": null,
      "outputs": []
    },
    {
      "cell_type": "code",
      "metadata": {
        "id": "1bRzv0nTCZYT"
      },
      "source": [
        "sales"
      ],
      "execution_count": null,
      "outputs": []
    },
    {
      "cell_type": "code",
      "metadata": {
        "id": "Nkc_jAy6Cz9T"
      },
      "source": [
        ""
      ],
      "execution_count": null,
      "outputs": []
    }
  ]
}