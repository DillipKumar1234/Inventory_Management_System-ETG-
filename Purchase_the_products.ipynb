{
  "nbformat": 4,
  "nbformat_minor": 0,
  "metadata": {
    "colab": {
      "name": "Purchase the products.ipynb",
      "provenance": []
    },
    "kernelspec": {
      "name": "python3",
      "display_name": "Python 3"
    },
    "language_info": {
      "name": "python"
    }
  },
  "cells": [
    {
      "cell_type": "code",
      "metadata": {
        "id": "Uy-YakX4nL7K"
      },
      "source": [
        ""
      ],
      "execution_count": null,
      "outputs": []
    },
    {
      "cell_type": "markdown",
      "metadata": {
        "id": "JQYO5pJFiYDz"
      },
      "source": [
        "# Read the record.json after adding products to that inventory"
      ]
    },
    {
      "cell_type": "code",
      "metadata": {
        "id": "7Wp3PK52is57"
      },
      "source": [
        "import json\n",
        "fd=open('record.json','r')\n",
        "r=fd.read()\n",
        "fd.close()\n",
        "record=json.loads(r)"
      ],
      "execution_count": 138,
      "outputs": []
    },
    {
      "cell_type": "code",
      "metadata": {
        "id": "QGHDQDbejmuX"
      },
      "source": [
        "record"
      ],
      "execution_count": null,
      "outputs": []
    },
    {
      "cell_type": "code",
      "metadata": {
        "id": "WK5XQiSqkDSE"
      },
      "source": [
        ""
      ],
      "execution_count": null,
      "outputs": []
    },
    {
      "cell_type": "markdown",
      "metadata": {
        "id": "8rIj5J4ekQWt"
      },
      "source": [
        "# Purchase Products"
      ]
    },
    {
      "cell_type": "code",
      "metadata": {
        "colab": {
          "base_uri": "https://localhost:8080/"
        },
        "id": "1AQgL1ZAkVWk",
        "outputId": "2ae3fad3-4997-4cd4-b5b5-577b7a69a229"
      },
      "source": [
        "prod_id=input('enter the product id: ')\n",
        "quant=int(input('enter the quantity: '))\n",
        "def mode():\n",
        "    print('Purchase by which type of  payment method')\n",
        "    print('1--- by ONLINE')\n",
        "    print('2--- by OFFLINE')\n",
        "    return input('please select an option in a countinious manner')\n",
        "    \n",
        "run=mode()\n",
        "    \n",
        "while True:\n",
        "        \n",
        "    if(run=='1'):\n",
        "        print('1--- by PAYTM')\n",
        "        print('2--- by PHONE-PE')\n",
        "        print('3--- by GOOGLE-PE')\n",
        "            \n",
        "        x=input('chose an option: ')\n",
        "        if (x=='1'):\n",
        "            ww='PAYTM'\n",
        "            print(ww)\n",
        "        elif(x=='2'):\n",
        "            ww='PHONE-PE'\n",
        "            print(ww)\n",
        "        elif (x=='3'):\n",
        "            ww='GOOGLE-PE'\n",
        "            print(ww)\n",
        "                \n",
        "        break\n",
        "            \n",
        "  \n",
        "    if (run=='2'):\n",
        "        print('1---by CREDIT-CARD')\n",
        "        print('2---by DEBIT-CARD')\n",
        "        print('3---by CASH')\n",
        "        x=input('chose an option: ')\n",
        "            \n",
        "        if (x=='1'):\n",
        "            ww='CREDIT-CARD'\n",
        "            print(ww)\n",
        "        elif (x=='2'):\n",
        "            ww='DEBIT-CARD'\n",
        "            print(ww)\n",
        "        elif (x=='3'):\n",
        "            ww='CASH'\n",
        "            print(ww)\n",
        "        break\n",
        "                \n",
        "    \n",
        "print('product_brand of that id is:',record[prod_id]['Brand_name'])\n",
        "print('price:',record[prod_id]['price'])\n",
        "print('discount:',record[prod_id]['discount in %:'])\n",
        "v=(quant*record[prod_id]['price']*(100-record[prod_id]['discount in %:']))/100\n",
        "print('Billing amount calculate with discount',v)\n",
        "record[prod_id]['quantity']=record[prod_id]['quantity']-quant\n",
        "print()\n",
        "    "
      ],
      "execution_count": 105,
      "outputs": [
        {
          "output_type": "stream",
          "name": "stdout",
          "text": [
            "enter the product id: 12302\n",
            "enter the quantity: 2\n",
            "Purchase by which type of  payment method\n",
            "1--- by ONLINE\n",
            "2--- by OFFLINE\n",
            "please select an option in a countinious manner2\n",
            "1---by CREDIT-CARD\n",
            "2---by DEBIT-CARD\n",
            "3---by CASH\n",
            "chose an option: 3\n",
            "CASH\n",
            "product_brand of that id is: REEBOK\n",
            "price: 500\n",
            "discount: 10\n",
            "Billing amount calculate with discount 900.0\n",
            "\n"
          ]
        }
      ]
    },
    {
      "cell_type": "markdown",
      "metadata": {
        "id": "JyW5xZi7w0z-"
      },
      "source": [
        "# Update inventory after purchase"
      ]
    },
    {
      "cell_type": "code",
      "metadata": {
        "id": "znOnkFDjlSsX"
      },
      "source": [
        "js=json.dumps(record)\n",
        "fd=open('record.json','w')\n",
        "fd.write(js)\n",
        "fd.close()"
      ],
      "execution_count": 106,
      "outputs": []
    },
    {
      "cell_type": "code",
      "metadata": {
        "id": "i8-j5fczpC_C"
      },
      "source": [
        "record"
      ],
      "execution_count": null,
      "outputs": []
    },
    {
      "cell_type": "code",
      "metadata": {
        "id": "3Fr-6Ejixafh"
      },
      "source": [
        ""
      ],
      "execution_count": 96,
      "outputs": []
    },
    {
      "cell_type": "code",
      "metadata": {
        "id": "NY9Np4xKBSBW"
      },
      "source": [
        ""
      ],
      "execution_count": null,
      "outputs": []
    },
    {
      "cell_type": "code",
      "metadata": {
        "id": "ens-pvurzxT3"
      },
      "source": [
        ""
      ],
      "execution_count": 109,
      "outputs": []
    },
    {
      "cell_type": "markdown",
      "metadata": {
        "id": "VvjjK1kK8WGO"
      },
      "source": [
        "# Read sales.json & update this file"
      ]
    },
    {
      "cell_type": "code",
      "metadata": {
        "id": "JPKLyrLh8ZRQ"
      },
      "source": [
        "import json\n",
        "fd=open(\"sales.json\",\"r\")\n",
        "r=fd.read()\n",
        "fd.close()\n",
        "s=json.loads(r)"
      ],
      "execution_count": 137,
      "outputs": []
    },
    {
      "cell_type": "code",
      "metadata": {
        "id": "CYJvqglI9EZ5"
      },
      "source": [
        "s"
      ],
      "execution_count": null,
      "outputs": []
    },
    {
      "cell_type": "code",
      "metadata": {
        "colab": {
          "base_uri": "https://localhost:8080/"
        },
        "id": "kW0A9YkX9tWJ",
        "outputId": "025b85c7-d71c-470f-df85-35d5f5682d4d"
      },
      "source": [
        "person_no=int(input('how many customers are present: '))\n",
        "for i in range(person_no):\n",
        "    prod_id=input('enter the product id: ')\n",
        "    q=int(input('enter the quantity: '))\n",
        "    def mode():\n",
        "        print('Purchase by which type of  payment method')\n",
        "        print('1--- by ONLINE')\n",
        "        print('2--- by OFFLINE')\n",
        "        return input('please select an option in a countinious manner')\n",
        "    \n",
        "    run=mode()\n",
        "    \n",
        "    while True:\n",
        "        \n",
        "        if(run=='1'):\n",
        "            print('1--- by PAYTM')\n",
        "            print('2--- by PHONE-PE')\n",
        "            print('3--- by GOOGLE-PE')\n",
        "            \n",
        "            x=input('chose an option: ')\n",
        "            if (x=='1'):\n",
        "                ww='PAYTM'\n",
        "                print(ww)\n",
        "            elif(x=='2'):\n",
        "                ww='PHONE-PE'\n",
        "                print(ww)\n",
        "            elif (x=='3'):\n",
        "                ww='GOOGLE-PE'\n",
        "                print(ww)\n",
        "                \n",
        "            break\n",
        "            \n",
        "  \n",
        "        if (run=='2'):\n",
        "            print('1---by CREDIT-CARD')\n",
        "            print('2---by DEBIT-CARD')\n",
        "            print('3---by CASH')\n",
        "            x=input('chose an option: ')\n",
        "            \n",
        "            if (x=='1'):\n",
        "                ww='CREDIT-CARD'\n",
        "                print(ww)\n",
        "            elif (x=='2'):\n",
        "                ww='DEBIT-CARD'\n",
        "                print(ww)\n",
        "            elif (x=='3'):\n",
        "                ww='CASH'\n",
        "                print(ww)\n",
        "            break\n",
        "                \n",
        "    \n",
        "    print('product_brand of that id is:',record[prod_id]['Brand_name'])\n",
        "    print('price:',record[prod_id]['price'])\n",
        "    print('discount:',record[prod_id]['discount in %:'])\n",
        "    v=(quant*record[prod_id]['price']*(100-record[prod_id]['discount in %:']))/100\n",
        "    print('Billing amount calculate with discount',v)\n",
        "    record[prod_id]['quantity']=record[prod_id]['quantity']-quant\n",
        "    print()\n",
        "    \n",
        "    js=json.dumps(record)\n",
        "    \n",
        "    fd=open(\"record.json\",\"w\")\n",
        "    fd.write(js)\n",
        "    fd.close()\n",
        "    s[(len(s)+1)]={'prod':prod_id,'quan':quant,'brand_name':record[prod_id]['Brand_name'],'amount':v,'payment_mode':ww}\n",
        "    sale=json.dumps(s)\n",
        "    fd=open(\"sales.json\",\"w\")\n",
        "    fd.write(sale)\n",
        "    fd.close()\n",
        "    sales=json.loads(sale)"
      ],
      "execution_count": 135,
      "outputs": [
        {
          "output_type": "stream",
          "name": "stdout",
          "text": [
            "how many customers are present: 1\n",
            "enter the product id: 12310\n",
            "enter the quantity: 1\n",
            "Purchase by which type of  payment method\n",
            "1--- by ONLINE\n",
            "2--- by OFFLINE\n",
            "please select an option in a countinious manner1\n",
            "1--- by PAYTM\n",
            "2--- by PHONE-PE\n",
            "3--- by GOOGLE-PE\n",
            "chose an option: 1\n",
            "PAYTM\n",
            "product_brand of that id is: PUMA\n",
            "price: 500\n",
            "discount: 10\n",
            "Billing amount calculate with discount 900.0\n",
            "\n"
          ]
        }
      ]
    },
    {
      "cell_type": "code",
      "metadata": {
        "id": "1bRzv0nTCZYT"
      },
      "source": [
        "sales"
      ],
      "execution_count": null,
      "outputs": []
    },
    {
      "cell_type": "code",
      "metadata": {
        "id": "Nkc_jAy6Cz9T"
      },
      "source": [
        ""
      ],
      "execution_count": 123,
      "outputs": []
    }
  ]
}